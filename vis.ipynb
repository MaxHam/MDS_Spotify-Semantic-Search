{
 "cells": [
  {
   "cell_type": "code",
   "execution_count": 12,
   "metadata": {},
   "outputs": [],
   "source": [
    "# init weaviate client\n",
    "import weaviate\n",
    "def init_client():\n",
    "    return weaviate.Client(url=\"http://localhost:8081\")\n",
    "\n",
    "client = init_client()"
   ]
  },
  {
   "cell_type": "code",
   "execution_count": 40,
   "metadata": {},
   "outputs": [
    {
     "name": "stdout",
     "output_type": "stream",
     "text": [
      "Getting all tracks...\n",
      "Done.\n",
      "Saving tracks...\n",
      "Reading tracks...\n",
      "10000\n"
     ]
    }
   ],
   "source": [
    "# get all tracks\n",
    "def get_all_tracks(client):\n",
    "    print(\"Getting all tracks...\")\n",
    "    result = client.data_object.get(class_name=\"Track\", with_vector=True, limit=10000)\n",
    "\n",
    "    tracks = result[\"objects\"]\n",
    "\n",
    "    print(\"Done.\")\n",
    "    return tracks\n",
    "\n",
    "# save tracks\n",
    "def save_tracks(tracks):\n",
    "    print(\"Saving tracks...\")\n",
    "    import pickle\n",
    "    with open(\"data/tracks.pkl\", \"wb\") as f:\n",
    "        pickle.dump(tracks, f)\n",
    "\n",
    "# read tracks\n",
    "def read_tracks():\n",
    "    print(\"Reading tracks...\")\n",
    "    import pickle\n",
    "    with open(\"data/tracks.pkl\", \"rb\") as f:\n",
    "        tracks = pickle.load(f)\n",
    "    return tracks\n",
    "\n",
    "tracks = get_all_tracks(client)\n",
    "save_tracks(tracks)\n",
    "tracks = read_tracks()\n",
    "\n",
    "print(f\"Length of tracks: {len(tracks)}\")"
   ]
  },
  {
   "cell_type": "code",
   "execution_count": 41,
   "metadata": {},
   "outputs": [
    {
     "name": "stdout",
     "output_type": "stream",
     "text": [
      "Getting all vectors...\n",
      "10000\n"
     ]
    }
   ],
   "source": [
    "def get_all_vectors(tracks):\n",
    "    print(\"Getting all vectors...\")\n",
    "    vectors = [o[\"vector\"] for o in tracks]\n",
    "    return vectors\n",
    "\n",
    "vectors = get_all_vectors(tracks)\n",
    "print(f\"Length of vectors: {len(tracks)}\")"
   ]
  },
  {
   "cell_type": "code",
   "execution_count": 47,
   "metadata": {},
   "outputs": [
    {
     "name": "stdout",
     "output_type": "stream",
     "text": [
      "Visualizing vectors...\n"
     ]
    },
    {
     "data": {
      "image/png": "[encoded data removed]",
      "text/plain": [
       "<Figure size 640x480 with 1 Axes>"
      ]
     },
     "metadata": {},
     "output_type": "display_data"
    }
   ],
   "source": [
    "# visualize vectors\n",
    "def visualize_vectors(vectors):\n",
    "    print(\"Visualizing vectors...\")\n",
    "    import matplotlib.pyplot as plt\n",
    "    import numpy as np\n",
    "    from sklearn.manifold import TSNE\n",
    "\n",
    "    # convert to numpy array\n",
    "    vectors = np.array(vectors)\n",
    "\n",
    "    # cut to 100\n",
    "    vectors = vectors[:100]\n",
    "    # reduce dimensionality\n",
    "    tsne = TSNE(n_components=3, random_state=0)\n",
    "    vectors_2d = tsne.fit_transform(vectors)\n",
    "\n",
    "    # categorize by genre\n",
    "    \n",
    "    # plot\n",
    "    plt.scatter(vectors_2d[:, 0], vectors_2d[:, 1])\n",
    "    plt.show()\n",
    "\n",
    "# todo: visualize query\n",
    "\n",
    "\n",
    "visualize_vectors(vectors)"
   ]
  }
 ],
 "metadata": {
  "kernelspec": {
   "display_name": ".venv",
   "language": "python",
   "name": "python3"
  },
  "language_info": {
   "codemirror_mode": {
    "name": "ipython",
    "version": 3
   },
   "file_extension": ".py",
   "mimetype": "text/x-python",
   "name": "python",
   "nbconvert_exporter": "python",
   "pygments_lexer": "ipython3",
   "version": "3.11.3"
  },
  "orig_nbformat": 4
 },
 "nbformat": 4,
 "nbformat_minor": 2
}
